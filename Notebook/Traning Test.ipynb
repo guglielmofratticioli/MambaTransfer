{
 "cells": [
  {
   "metadata": {},
   "cell_type": "markdown",
   "source": "# Preprocessing Test for StarNet Dataset",
   "id": "8b790ec0df6f1ae0"
  },
  {
   "metadata": {},
   "cell_type": "markdown",
   "source": [
    "### StarNet Examples\n",
    "```\n",
    "scp gfraticcioli@10.79.23.8:/nas/home/gfraticcioli/datasets/starnet/audios/001.*.wav /Users/guglielmofratticioli/Desktop\n",
    "```"
   ],
   "id": "bbdc8bfa19335b16"
  },
  {
   "metadata": {
    "jupyter": {
     "is_executing": true
    },
    "ExecuteTime": {
     "start_time": "2024-11-15T13:22:52.312097Z"
    }
   },
   "cell_type": "code",
   "source": [
    "from IPython.display import Audio\n",
    "import librosa\n",
    "import os\n",
    "import ipywidgets as widgets\n",
    "\n",
    "from sympy import false\n",
    "\n",
    "path = '/nas/home/gfraticcioli/projects/MambaTransfer/Notebook'\n",
    "\n",
    "\n",
    "def print2_timbre(timbre):\n",
    "    print('Timbre '+str(timbre)+' left right')\n",
    "    # Load your audio file with librosa\n",
    "    y, sr = librosa.load(os.path.join(path,'datas/starnet_audios/001.'+str(timbre)+'.wav',), mono=False, sr=44100)\n",
    "    left = widgets.Output()\n",
    "    with left:\n",
    "        display(Audio(data=y[0,:], rate=sr))\n",
    "    right = widgets.Output()\n",
    "    with right:\n",
    "        display(Audio(data=y[1,:], rate=sr))\n",
    "    \n",
    "    two_columns = widgets.HBox([left, right])\n",
    "    display(two_columns)\n",
    "    \n",
    "for i in range(0,6): \n",
    "    print2_timbre(i)"
   ],
   "id": "820f983b399723de",
   "outputs": [
    {
     "name": "stdout",
     "output_type": "stream",
     "text": [
      "Timbre 0 left right\n"
     ]
    },
    {
     "data": {
      "text/plain": [
       "HBox(children=(Output(), Output()))"
      ],
      "application/vnd.jupyter.widget-view+json": {
       "version_major": 2,
       "version_minor": 0,
       "model_id": "42b5d6ff68704b2485d39649690fae2c"
      }
     },
     "metadata": {},
     "output_type": "display_data"
    },
    {
     "name": "stdout",
     "output_type": "stream",
     "text": [
      "Timbre 1 left right\n"
     ]
    },
    {
     "data": {
      "text/plain": [
       "HBox(children=(Output(), Output()))"
      ],
      "application/vnd.jupyter.widget-view+json": {
       "version_major": 2,
       "version_minor": 0,
       "model_id": "dec446cb6c1a4197920a11c37d724a02"
      }
     },
     "metadata": {},
     "output_type": "display_data"
    },
    {
     "name": "stdout",
     "output_type": "stream",
     "text": [
      "Timbre 2 left right\n"
     ]
    }
   ],
   "execution_count": null
  }
 ],
 "metadata": {
  "kernelspec": {
   "display_name": "Python 3",
   "language": "python",
   "name": "python3"
  },
  "language_info": {
   "codemirror_mode": {
    "name": "ipython",
    "version": 2
   },
   "file_extension": ".py",
   "mimetype": "text/x-python",
   "name": "python",
   "nbconvert_exporter": "python",
   "pygments_lexer": "ipython2",
   "version": "2.7.6"
  }
 },
 "nbformat": 4,
 "nbformat_minor": 5
}
